{
 "cells": [
  {
   "cell_type": "code",
   "execution_count": 1,
   "id": "b88caab9",
   "metadata": {},
   "outputs": [
    {
     "data": {
      "text/plain": [
       "<virtualenv.run.session.Session at 0x7fbb08557be0>"
      ]
     },
     "execution_count": 1,
     "metadata": {},
     "output_type": "execute_result"
    }
   ],
   "source": [
    "from virtualenv import cli_run\n",
    "\n",
    "cli_run([\"venv\"])"
   ]
  },
  {
   "cell_type": "code",
   "execution_count": 26,
   "id": "0744c875",
   "metadata": {},
   "outputs": [],
   "source": [
    "import requests, time\n",
    "from selenium import webdriver"
   ]
  },
  {
   "cell_type": "code",
   "execution_count": 3,
   "id": "5c74f63c",
   "metadata": {},
   "outputs": [],
   "source": [
    "url = \"https://finance.yahoo.com/chart/AAPL#eyJpbnRlcnZhbCI6ImRheSIsInBlcmlvZGljaXR5IjoxLCJ0aW1lVW5pdCI6bnVsbCwiY2FuZGxlV2lkdGgiOjgsImZsaXBwZWQiOmZhbHNlLCJ2b2x1bWVVbmRlcmxheSI6dHJ1ZSwiYWRqIjp0cnVlLCJjcm9zc2hhaXIiOnRydWUsImNoYXJ0VHlwZSI6ImxpbmUiLCJleHRlbmRlZCI6ZmFsc2UsIm1hcmtldFNlc3Npb25zIjp7fSwiYWdncmVnYXRpb25UeXBlIjoib2hsYyIsImNoYXJ0U2NhbGUiOiJsaW5lYXIiLCJwYW5lbHMiOnsiY2hhcnQiOnsicGVyY2VudCI6MSwiZGlzcGxheSI6IkFBUEwiLCJjaGFydE5hbWUiOiJjaGFydCIsImluZGV4IjowLCJ5QXhpcyI6eyJuYW1lIjoiY2hhcnQiLCJwb3NpdGlvbiI6bnVsbH0sInlheGlzTEhTIjpbXSwieWF4aXNSSFMiOlsiY2hhcnQiLCLigIx2b2wgdW5kcuKAjCJdfX0sInNldFNwYW4iOnt9LCJsaW5lV2lkdGgiOjIsInN0cmlwZWRCYWNrZ3JvdW5kIjp0cnVlLCJldmVudHMiOnRydWUsImNvbG9yIjoiIzAwODFmMiIsInN0cmlwZWRCYWNrZ3JvdWQiOnRydWUsImV2ZW50TWFwIjp7ImNvcnBvcmF0ZSI6eyJkaXZzIjp0cnVlLCJzcGxpdHMiOnRydWV9LCJzaWdEZXYiOnt9fSwic3ltYm9scyI6W3sic3ltYm9sIjoiQUFQTCIsInN5bWJvbE9iamVjdCI6eyJzeW1ib2wiOiJBQVBMIiwicXVvdGVUeXBlIjoiRVFVSVRZIiwiZXhjaGFuZ2VUaW1lWm9uZSI6IkFtZXJpY2EvTmV3X1lvcmsifSwicGVyaW9kaWNpdHkiOjEsImludGVydmFsIjoiZGF5IiwidGltZVVuaXQiOm51bGwsInNldFNwYW4iOnt9fV0sInN0dWRpZXMiOnsi4oCMdm9sIHVuZHLigIwiOnsidHlwZSI6InZvbCB1bmRyIiwiaW5wdXRzIjp7ImlkIjoi4oCMdm9sIHVuZHLigIwiLCJkaXNwbGF5Ijoi4oCMdm9sIHVuZHLigIwifSwib3V0cHV0cyI6eyJVcCBWb2x1bWUiOiIjMDBiMDYxIiwiRG93biBWb2x1bWUiOiIjZmYzMzNhIn0sInBhbmVsIjoiY2hhcnQiLCJwYXJhbWV0ZXJzIjp7IndpZHRoRmFjdG9yIjowLjQ1LCJjaGFydE5hbWUiOiJjaGFydCIsInBhbmVsTmFtZSI6ImNoYXJ0In19fX0-\"\n",
    "\n",
    "r = requests.get(url)\n",
    "t = r.text"
   ]
  },
  {
   "cell_type": "code",
   "execution_count": 4,
   "id": "39295263",
   "metadata": {},
   "outputs": [
    {
     "name": "stdout",
     "output_type": "stream",
     "text": [
      "No\n"
     ]
    }
   ],
   "source": [
    "value = \"BTC-USD\"\n",
    "if value in t:\n",
    "    print('Yes')\n",
    "else:\n",
    "    print('No')"
   ]
  },
  {
   "cell_type": "markdown",
   "id": "1c74f07c",
   "metadata": {},
   "source": [
    "It cannot find \"BTC-USD\" because that part of the website is loaded by Javascript afterwards, and not part of the initial snapshot taken via `requests`.<br>\n",
    "We'll use Selenium to grab that content."
   ]
  },
  {
   "cell_type": "code",
   "execution_count": 29,
   "id": "0522c8ef",
   "metadata": {},
   "outputs": [
    {
     "name": "stderr",
     "output_type": "stream",
     "text": [
      "<ipython-input-29-a4de0c663e21>:2: DeprecationWarning: executable_path has been deprecated, please pass in a Service object\n",
      "  driver = webdriver.Chrome(executable_path='./chromedriver')\n"
     ]
    },
    {
     "name": "stdout",
     "output_type": "stream",
     "text": [
      "No\n"
     ]
    }
   ],
   "source": [
    "# create the driver\n",
    "driver = webdriver.Chrome(executable_path='./chromedriver')\n",
    "\n",
    "driver.get(url)\n",
    "ps = driver.page_source\n",
    "\n",
    "time.sleep(10) # to give the page time to load\n",
    "\n",
    "if value in ps:\n",
    "    print('Yes')\n",
    "else:\n",
    "    print('No')"
   ]
  },
  {
   "cell_type": "code",
   "execution_count": 6,
   "id": "c6530f9f",
   "metadata": {},
   "outputs": [],
   "source": [
    "# close the driver\n",
    "# driver.close()"
   ]
  },
  {
   "cell_type": "code",
   "execution_count": 31,
   "id": "19d25cfe",
   "metadata": {},
   "outputs": [
    {
     "name": "stdout",
     "output_type": "stream",
     "text": [
      "['BTC-USD', '37,222.00', '+1,344.82+3.75%']\n",
      "['ETH-USD', '2,487.05', '+127.25+5.39%']\n",
      "['USDT-USD', '1.00', '-0.00-0.01%']\n",
      "['BNB-USD', '384.80', '+21.72+5.98%']\n",
      "['USDC-USD', '1.00', '-0.00-0.03%']\n"
     ]
    },
    {
     "name": "stderr",
     "output_type": "stream",
     "text": [
      "<ipython-input-31-f401696b0176>:5: DeprecationWarning: find_elements_by_* commands are deprecated. Please use find_elements() instead\n",
      "  elem = driver.find_elements_by_xpath(xPath)\n"
     ]
    }
   ],
   "source": [
    "# find elements by x-path\n",
    "for i in range(1,6):\n",
    "    \n",
    "    # use single quotation marks because strings in the html usually have double quation marks\n",
    "    xPath = f'//*[@id=\"data-util-col\"]/section[2]/table/tbody/tr[{str(i)}]'\n",
    "    elem = driver.find_elements_by_xpath(xPath)\n",
    "    print(elem[0].text.split('\\n'))\n"
   ]
  },
  {
   "cell_type": "code",
   "execution_count": 32,
   "id": "2725707c",
   "metadata": {},
   "outputs": [
    {
     "name": "stderr",
     "output_type": "stream",
     "text": [
      "<ipython-input-32-04f6d54b7d29>:1: DeprecationWarning: find_elements_by_* commands are deprecated. Please use find_elements() instead\n",
      "  elem_chartHeader = driver.find_elements_by_id('chart-header')\n"
     ]
    },
    {
     "name": "stdout",
     "output_type": "stream",
     "text": [
      "Apple Inc. (AAPL)\n",
      "NasdaqGS - NasdaqGS Real Time Price. Currency in USD\n",
      "161.24-0.38 (-0.23%)\n",
      "As of 02:34PM EST. Market open.\n",
      "Technical Events\n",
      "All 15 EventsShort Term\n",
      "Bearish\n",
      "Mid Term\n",
      "Bearish\n",
      "Long Term\n",
      "Neutral\n",
      "Support\n",
      "149.57-\n",
      "Resistance\n",
      "172.21\n",
      "Stop loss\n",
      "153.36\n"
     ]
    }
   ],
   "source": [
    "# find elements by id\n",
    "elem_chartHeader = driver.find_elements_by_id('chart-header')\n",
    "print(elem_chartHeader[0].text)\n",
    "driver.close()"
   ]
  },
  {
   "cell_type": "code",
   "execution_count": 9,
   "id": "c4e3c526",
   "metadata": {},
   "outputs": [
    {
     "data": {
      "text/plain": [
       "550626"
      ]
     },
     "execution_count": 9,
     "metadata": {},
     "output_type": "execute_result"
    }
   ],
   "source": [
    "len(t)"
   ]
  },
  {
   "cell_type": "code",
   "execution_count": 10,
   "id": "bb870be1",
   "metadata": {},
   "outputs": [
    {
     "data": {
      "text/plain": [
       "695608"
      ]
     },
     "execution_count": 10,
     "metadata": {},
     "output_type": "execute_result"
    }
   ],
   "source": [
    "len(ps)"
   ]
  },
  {
   "cell_type": "code",
   "execution_count": null,
   "id": "d160f797",
   "metadata": {},
   "outputs": [],
   "source": []
  }
 ],
 "metadata": {
  "kernelspec": {
   "display_name": "Python 3",
   "language": "python",
   "name": "python3"
  },
  "language_info": {
   "codemirror_mode": {
    "name": "ipython",
    "version": 3
   },
   "file_extension": ".py",
   "mimetype": "text/x-python",
   "name": "python",
   "nbconvert_exporter": "python",
   "pygments_lexer": "ipython3",
   "version": "3.8.8"
  }
 },
 "nbformat": 4,
 "nbformat_minor": 5
}
